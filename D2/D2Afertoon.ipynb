{
  "cells": [
    {
      "cell_type": "markdown",
      "metadata": {
        "id": "G4EJnUo6WDD3"
      },
      "source": [
        "## IIBM Bootcamp 2025: Day 2 Afternoon\n",
        "\n",
        "### Instructors Carlos Valle (cgvalle@uc.cl) and Nicolás Garrido (nagarrido@uc.cl)\n",
        "\n",
        "\n",
        "This jupyter notebook will cover the basics of data reading and writing in Python.\n"
      ]
    },
    {
      "cell_type": "markdown",
      "metadata": {
        "id": "1yUY3zjYV-Rx"
      },
      "source": [
        "#Group Project\n",
        "You can choose to build a function or to use a [`method`](https://www.pythontutorial.net/python-oop/python-methods/)\n",
        "\n",
        "Good luck!"
      ]
    },
    {
      "cell_type": "markdown",
      "metadata": {
        "id": "kfH-DLYW_oUt"
      },
      "source": [
        "### 1. Working with the DNA sequence\n",
        "\n",
        "\n",
        "\n",
        "\n",
        "With the data we already worked with, we now ask you to build a function to translate DNA sequence into protein sequence.\n",
        "We put at your disposal the dictionary of triples."
      ]
    },
    {
      "cell_type": "code",
      "execution_count": 1,
      "metadata": {
        "colab": {
          "base_uri": "https://localhost:8080/"
        },
        "id": "UD6-rfqQiorT",
        "outputId": "5e407b9a-c238-4b47-8667-ba82c9d22f28"
      },
      "outputs": [
        {
          "output_type": "stream",
          "name": "stdout",
          "text": [
            "--2025-01-14 22:15:42--  https://raw.githubusercontent.com/cgvalle/IIBM-BootCamp-2025/main/assets/D2/seq_clean.txt\n",
            "Resolving raw.githubusercontent.com (raw.githubusercontent.com)... 185.199.108.133, 185.199.109.133, 185.199.110.133, ...\n",
            "Connecting to raw.githubusercontent.com (raw.githubusercontent.com)|185.199.108.133|:443... connected.\n",
            "HTTP request sent, awaiting response... 200 OK\n",
            "Length: 29903 (29K) [text/plain]\n",
            "Saving to: ‘seq_clean.txt’\n",
            "\n",
            "seq_clean.txt       100%[===================>]  29.20K  --.-KB/s    in 0.01s   \n",
            "\n",
            "2025-01-14 22:15:42 (2.24 MB/s) - ‘seq_clean.txt’ saved [29903/29903]\n",
            "\n"
          ]
        }
      ],
      "source": [
        "# Load the data\n",
        "!wget https://raw.githubusercontent.com/cgvalle/IIBM-BootCamp-2025/main/assets/D2/seq_clean.txt"
      ]
    },
    {
      "cell_type": "code",
      "execution_count": 2,
      "metadata": {
        "id": "NLOYo3YG_r6O"
      },
      "outputs": [],
      "source": [
        "# Open and read the data\n",
        "file = open('seq_clean.txt')\n",
        "seq = file.read()\n",
        "file.close()"
      ]
    },
    {
      "cell_type": "code",
      "execution_count": 3,
      "metadata": {
        "id": "1u6nfryiELW8"
      },
      "outputs": [],
      "source": [
        "# DICTIONARY\n",
        "\n",
        "table = {\n",
        "        'ATA':'I', 'ATC':'I', 'ATT':'I', 'ATG':'M',\n",
        "        'ACA':'T', 'ACC':'T', 'ACG':'T', 'ACT':'T',\n",
        "        'AAC':'N', 'AAT':'N', 'AAA':'K', 'AAG':'K',\n",
        "        'AGC':'S', 'AGT':'S', 'AGA':'R', 'AGG':'R',\n",
        "        'CTA':'L', 'CTC':'L', 'CTG':'L', 'CTT':'L',\n",
        "        'CCA':'P', 'CCC':'P', 'CCG':'P', 'CCT':'P',\n",
        "        'CAC':'H', 'CAT':'H', 'CAA':'Q', 'CAG':'Q',\n",
        "        'CGA':'R', 'CGC':'R', 'CGG':'R', 'CGT':'R',\n",
        "        'GTA':'V', 'GTC':'V', 'GTG':'V', 'GTT':'V',\n",
        "        'GCA':'A', 'GCC':'A', 'GCG':'A', 'GCT':'A',\n",
        "        'GAC':'D', 'GAT':'D', 'GAA':'E', 'GAG':'E',\n",
        "        'GGA':'G', 'GGC':'G', 'GGG':'G', 'GGT':'G',\n",
        "        'TCA':'S', 'TCC':'S', 'TCG':'S', 'TCT':'S',\n",
        "        'TTC':'F', 'TTT':'F', 'TTA':'L', 'TTG':'L',\n",
        "        'TAC':'Y', 'TAT':'Y', 'TAA':'_', 'TAG':'_',\n",
        "        'TGC':'C', 'TGT':'C', 'TGA':'_', 'TGG':'W',\n",
        "         }"
      ]
    },
    {
      "cell_type": "code",
      "execution_count": 4,
      "metadata": {
        "colab": {
          "base_uri": "https://localhost:8080/",
          "height": 36
        },
        "id": "7KcQQ9YhV4Z_",
        "outputId": "a7016d8e-b7f9-436a-eef9-5558fa584150"
      },
      "outputs": [
        {
          "output_type": "execute_result",
          "data": {
            "text/plain": [
              "'I'"
            ],
            "application/vnd.google.colaboratory.intrinsic+json": {
              "type": "string"
            }
          },
          "metadata": {},
          "execution_count": 4
        }
      ],
      "source": [
        "# Check the dictionary\n",
        "table['ATT']"
      ]
    },
    {
      "cell_type": "code",
      "execution_count": 6,
      "metadata": {
        "id": "vO6lI_Rb0jvz"
      },
      "outputs": [],
      "source": [
        "# Build the functions\n",
        "# Build the functions\n",
        "def gen2amino_str(sequence, amino_dict):\n",
        "    translation = \"\"\n",
        "    step = 0\n",
        "    seq_size = round(len(sequence)/3)\n",
        "    n_iterations = range(1, seq_size)\n",
        "    for i in n_iterations:\n",
        "\n",
        "        codon = sequence[step:step + 3]\n",
        "        amino = amino_dict[codon]\n",
        "        translation = translation + amino\n",
        "        step += 3\n",
        "\n",
        "    return translation\n",
        "\n",
        "results = gen2amino_str(seq, table)"
      ]
    },
    {
      "cell_type": "markdown",
      "metadata": {
        "id": "UtijZd0-_5-u"
      },
      "source": [
        "#### Now we ask to translate the DNA sequence, but this time you will alternate between reading 3 and 4 bases."
      ]
    },
    {
      "cell_type": "code",
      "execution_count": null,
      "metadata": {
        "id": "lBfuRKy-__nz"
      },
      "outputs": [],
      "source": [
        "'TO DO'"
      ]
    },
    {
      "cell_type": "markdown",
      "metadata": {
        "id": "lFYFfUXkyaOU"
      },
      "source": [
        "### 2. Working with Chinese text\n",
        "\n",
        "\n",
        "\n",
        "With a new data set, we now ask you to use a `method` to translate Chinese text into Spanish.\n",
        "\n",
        "You must find the library, install packages (if it is requiered), import modules, and apply the method"
      ]
    },
    {
      "cell_type": "code",
      "execution_count": 11,
      "metadata": {
        "id": "54aHA-9hcM4p"
      },
      "outputs": [],
      "source": [
        "# Original phrase in Chinese to be translated\n",
        "frase_china = \"吃葡萄不吐葡萄皮,不吃葡萄倒吐葡萄皮\""
      ]
    },
    {
      "cell_type": "code",
      "execution_count": null,
      "metadata": {
        "id": "TWo9o5Pwc32V"
      },
      "outputs": [],
      "source": [
        "## Translate\n",
        "'<TO DO>'"
      ]
    },
    {
      "cell_type": "code",
      "execution_count": 8,
      "metadata": {
        "colab": {
          "base_uri": "https://localhost:8080/"
        },
        "id": "WvhwN9-_30DP",
        "outputId": "7f46c761-20f5-4096-ff20-20203ef8b3e3"
      },
      "outputs": [
        {
          "output_type": "stream",
          "name": "stdout",
          "text": [
            "Collecting translators\n",
            "  Downloading translators-5.9.3-py3-none-any.whl.metadata (68 kB)\n",
            "\u001b[?25l     \u001b[90m━━━━━━━━━━━━━━━━━━━━━━━━━━━━━━━━━━━━━━━━\u001b[0m \u001b[32m0.0/68.9 kB\u001b[0m \u001b[31m?\u001b[0m eta \u001b[36m-:--:--\u001b[0m\r\u001b[2K     \u001b[90m━━━━━━━━━━━━━━━━━━━━━━━━━━━━━━━━━━━━━━━━\u001b[0m \u001b[32m68.9/68.9 kB\u001b[0m \u001b[31m1.9 MB/s\u001b[0m eta \u001b[36m0:00:00\u001b[0m\n",
            "\u001b[?25hRequirement already satisfied: requests>=2.29.0 in /usr/local/lib/python3.10/dist-packages (from translators) (2.32.3)\n",
            "Collecting PyExecJS>=1.5.1 (from translators)\n",
            "  Downloading PyExecJS-1.5.1.tar.gz (13 kB)\n",
            "  Preparing metadata (setup.py) ... \u001b[?25l\u001b[?25hdone\n",
            "Requirement already satisfied: lxml>=4.9.1 in /usr/local/lib/python3.10/dist-packages (from translators) (5.3.0)\n",
            "Requirement already satisfied: tqdm>=4.65.0 in /usr/local/lib/python3.10/dist-packages (from translators) (4.67.1)\n",
            "Collecting pathos>=0.2.9 (from translators)\n",
            "  Downloading pathos-0.3.3-py3-none-any.whl.metadata (11 kB)\n",
            "Requirement already satisfied: cryptography>=42.0.4 in /usr/local/lib/python3.10/dist-packages (from translators) (43.0.3)\n",
            "Requirement already satisfied: cffi>=1.12 in /usr/local/lib/python3.10/dist-packages (from cryptography>=42.0.4->translators) (1.17.1)\n",
            "Collecting ppft>=1.7.6.9 (from pathos>=0.2.9->translators)\n",
            "  Downloading ppft-1.7.6.9-py3-none-any.whl.metadata (12 kB)\n",
            "Collecting dill>=0.3.9 (from pathos>=0.2.9->translators)\n",
            "  Downloading dill-0.3.9-py3-none-any.whl.metadata (10 kB)\n",
            "Collecting pox>=0.3.5 (from pathos>=0.2.9->translators)\n",
            "  Downloading pox-0.3.5-py3-none-any.whl.metadata (8.0 kB)\n",
            "Collecting multiprocess>=0.70.17 (from pathos>=0.2.9->translators)\n",
            "  Downloading multiprocess-0.70.17-py310-none-any.whl.metadata (7.2 kB)\n",
            "Requirement already satisfied: six>=1.10.0 in /usr/local/lib/python3.10/dist-packages (from PyExecJS>=1.5.1->translators) (1.17.0)\n",
            "Requirement already satisfied: charset-normalizer<4,>=2 in /usr/local/lib/python3.10/dist-packages (from requests>=2.29.0->translators) (3.4.0)\n",
            "Requirement already satisfied: idna<4,>=2.5 in /usr/local/lib/python3.10/dist-packages (from requests>=2.29.0->translators) (3.10)\n",
            "Requirement already satisfied: urllib3<3,>=1.21.1 in /usr/local/lib/python3.10/dist-packages (from requests>=2.29.0->translators) (2.2.3)\n",
            "Requirement already satisfied: certifi>=2017.4.17 in /usr/local/lib/python3.10/dist-packages (from requests>=2.29.0->translators) (2024.12.14)\n",
            "Requirement already satisfied: pycparser in /usr/local/lib/python3.10/dist-packages (from cffi>=1.12->cryptography>=42.0.4->translators) (2.22)\n",
            "Downloading translators-5.9.3-py3-none-any.whl (56 kB)\n",
            "\u001b[2K   \u001b[90m━━━━━━━━━━━━━━━━━━━━━━━━━━━━━━━━━━━━━━━━\u001b[0m \u001b[32m56.9/56.9 kB\u001b[0m \u001b[31m4.3 MB/s\u001b[0m eta \u001b[36m0:00:00\u001b[0m\n",
            "\u001b[?25hDownloading pathos-0.3.3-py3-none-any.whl (82 kB)\n",
            "\u001b[2K   \u001b[90m━━━━━━━━━━━━━━━━━━━━━━━━━━━━━━━━━━━━━━━━\u001b[0m \u001b[32m82.1/82.1 kB\u001b[0m \u001b[31m6.4 MB/s\u001b[0m eta \u001b[36m0:00:00\u001b[0m\n",
            "\u001b[?25hDownloading dill-0.3.9-py3-none-any.whl (119 kB)\n",
            "\u001b[2K   \u001b[90m━━━━━━━━━━━━━━━━━━━━━━━━━━━━━━━━━━━━━━━━\u001b[0m \u001b[32m119.4/119.4 kB\u001b[0m \u001b[31m9.3 MB/s\u001b[0m eta \u001b[36m0:00:00\u001b[0m\n",
            "\u001b[?25hDownloading multiprocess-0.70.17-py310-none-any.whl (134 kB)\n",
            "\u001b[2K   \u001b[90m━━━━━━━━━━━━━━━━━━━━━━━━━━━━━━━━━━━━━━━━\u001b[0m \u001b[32m134.8/134.8 kB\u001b[0m \u001b[31m11.4 MB/s\u001b[0m eta \u001b[36m0:00:00\u001b[0m\n",
            "\u001b[?25hDownloading pox-0.3.5-py3-none-any.whl (29 kB)\n",
            "Downloading ppft-1.7.6.9-py3-none-any.whl (56 kB)\n",
            "\u001b[2K   \u001b[90m━━━━━━━━━━━━━━━━━━━━━━━━━━━━━━━━━━━━━━━━\u001b[0m \u001b[32m56.8/56.8 kB\u001b[0m \u001b[31m4.7 MB/s\u001b[0m eta \u001b[36m0:00:00\u001b[0m\n",
            "\u001b[?25hBuilding wheels for collected packages: PyExecJS\n",
            "  Building wheel for PyExecJS (setup.py) ... \u001b[?25l\u001b[?25hdone\n",
            "  Created wheel for PyExecJS: filename=PyExecJS-1.5.1-py3-none-any.whl size=14576 sha256=78411c873ba0922ed3b9be2daaa4fd5a281e119cbe5ee7ef43d4db48bd2ee7fa\n",
            "  Stored in directory: /root/.cache/pip/wheels/9d/91/30/28e6da53d4f44dc445349b2ffad581968447e4cbc9dd7991b8\n",
            "Successfully built PyExecJS\n",
            "Installing collected packages: PyExecJS, ppft, pox, dill, multiprocess, pathos, translators\n",
            "Successfully installed PyExecJS-1.5.1 dill-0.3.9 multiprocess-0.70.17 pathos-0.3.3 pox-0.3.5 ppft-1.7.6.9 translators-5.9.3\n"
          ]
        }
      ],
      "source": [
        "# LOAD PACKAGE\n",
        "!pip install --upgrade translators"
      ]
    },
    {
      "cell_type": "code",
      "execution_count": 9,
      "metadata": {
        "id": "NQsgXbHL30DQ"
      },
      "outputs": [],
      "source": [
        "# IMPORT PACKAGES\n",
        "import translators as ts"
      ]
    },
    {
      "cell_type": "code",
      "execution_count": 17,
      "metadata": {
        "colab": {
          "base_uri": "https://localhost:8080/"
        },
        "id": "YQcdQkf830DQ",
        "outputId": "96b8e37e-0d70-4be1-d8e9-979cffc53c7c"
      },
      "outputs": [
        {
          "output_type": "stream",
          "name": "stdout",
          "text": [
            "Eat grapes without spitting grape skins, and spit grape skins instead of grapes.\n"
          ]
        }
      ],
      "source": [
        "# USE METHOD\n",
        "print(ts.translate_text(frase_china, to_language='en', translator='alibaba')) #Best translation\n"
      ]
    },
    {
      "cell_type": "markdown",
      "metadata": {
        "id": "ol_56APx-3Ht"
      },
      "source": [
        "# 6. Don't forget to send your work!\n",
        "Please don't forget to send your work to give you feedback about your progress. [form](https://forms.gle/sME7JXuoB4ztMCFq6)"
      ]
    },
    {
      "cell_type": "markdown",
      "metadata": {
        "id": "kJ7zFVGCJbNi"
      },
      "source": [
        "Based on the [exercise](https://www.geeksforgeeks.org/dna-protein-python-3/)"
      ]
    }
  ],
  "metadata": {
    "colab": {
      "collapsed_sections": [
        "kfH-DLYW_oUt"
      ],
      "provenance": []
    },
    "kernelspec": {
      "display_name": "Python 3 (ipykernel)",
      "language": "python",
      "name": "python3"
    },
    "language_info": {
      "codemirror_mode": {
        "name": "ipython",
        "version": 3
      },
      "file_extension": ".py",
      "mimetype": "text/x-python",
      "name": "python",
      "nbconvert_exporter": "python",
      "pygments_lexer": "ipython3",
      "version": "3.11.4"
    },
    "vscode": {
      "interpreter": {
        "hash": "12332c04e63b3d97ab5935cc5fd411f9045fe7cff541a8f514cbe7b01e0ce6fb"
      }
    }
  },
  "nbformat": 4,
  "nbformat_minor": 0
}