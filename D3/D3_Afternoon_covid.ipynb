{
  "cells": [
    {
      "cell_type": "markdown",
      "id": "b04a9d23",
      "metadata": {
        "id": "b04a9d23"
      },
      "source": [
        "## IIBM Bootcamp 2025: Day 3 Afternoon"
      ]
    },
    {
      "cell_type": "markdown",
      "id": "9ae300a6",
      "metadata": {
        "id": "9ae300a6"
      },
      "source": [
        "### Instructors Carlos Valle (cgvalle@uc.cl) and Nicolás Garrido (nagarrido@uc.cl)\n"
      ]
    },
    {
      "cell_type": "markdown",
      "id": "508e1926",
      "metadata": {
        "id": "508e1926"
      },
      "source": [
        "This jupyter noteboook will cover the use of the NumPy and Matplotlib Python libraries and the Matlab equivalence.\n",
        "\n",
        "### Day Agenda:\n",
        "\n",
        "***Morning***\n",
        "1. Working with NumPy\n",
        "    * Arrays\n",
        "    * Vector operations\n",
        "    * Matrix operations\n",
        "    * point-wise operations\n",
        "2. Working with Matplotlib\n",
        "    * Anatomy of a figure\n",
        "    * Fundamental principles of ploting library\n",
        "    * Design of a figure\n",
        "    * Types of figures\n",
        "    \n",
        "3. Introduction to Matlab\n",
        "    * Understanding the GUI\n",
        "    * Vectors and Matrix\n",
        "    * Plots\n",
        "\n",
        "    \n",
        "***Afternoon***\n",
        "\n",
        "4. Group Project\n",
        "    * Working with real-world data\n"
      ]
    },
    {
      "cell_type": "markdown",
      "id": "a5b08ac6",
      "metadata": {
        "id": "a5b08ac6"
      },
      "source": [
        "# 4. Group Project\n",
        "\n"
      ]
    },
    {
      "cell_type": "markdown",
      "id": "9e61fcca",
      "metadata": {
        "id": "9e61fcca"
      },
      "source": [
        "The covid pandemic is still not over, and you are given the task to analyze it. You will plot and get general stats of the pandemic in this exercise for Python and Matlab languages."
      ]
    },
    {
      "cell_type": "markdown",
      "id": "f77f52d8",
      "metadata": {
        "id": "f77f52d8"
      },
      "source": [
        "## 4.1 Python\n",
        "Since you are going to use math operations and plots. Import the neccesary libraries"
      ]
    },
    {
      "cell_type": "code",
      "execution_count": 3,
      "id": "7b5d9697",
      "metadata": {
        "id": "7b5d9697"
      },
      "outputs": [],
      "source": [
        "# Import the two necessary libraries\n",
        "import numpy as np\n",
        "import matplotlib.pyplot as plt\n"
      ]
    },
    {
      "cell_type": "markdown",
      "id": "5d50bb26",
      "metadata": {
        "id": "5d50bb26"
      },
      "source": [
        "## Loading and preparing data\n",
        "Let's now download the data and load it to colab. The data was downloaded from Github report of [MinCiencia](https://github.com/MinCiencia/Datos-COVID19)"
      ]
    },
    {
      "cell_type": "code",
      "execution_count": 1,
      "id": "fd532c2e",
      "metadata": {
        "colab": {
          "base_uri": "https://localhost:8080/"
        },
        "id": "fd532c2e",
        "outputId": "a58ab566-03a7-46a6-84b6-1ce38a2d73e4"
      },
      "outputs": [
        {
          "output_type": "stream",
          "name": "stdout",
          "text": [
            "  % Total    % Received % Xferd  Average Speed   Time    Time     Time  Current\n",
            "                                 Dload  Upload   Total   Spent    Left  Speed\n",
            "100  9647  100  9647    0     0  26503      0 --:--:-- --:--:-- --:--:-- 26575\n"
          ]
        }
      ],
      "source": [
        "# Downloading\n",
        "!curl -O https://raw.githubusercontent.com/cgvalle/IIBM-BootCamp-2025/main/assets/D3/daily_cases.csv"
      ]
    },
    {
      "cell_type": "code",
      "execution_count": 4,
      "id": "13592d84",
      "metadata": {
        "colab": {
          "base_uri": "https://localhost:8080/"
        },
        "id": "13592d84",
        "outputId": "de414233-8fe1-4cc6-bf12-506ea7e8d0d8"
      },
      "outputs": [
        {
          "output_type": "execute_result",
          "data": {
            "text/plain": [
              "array([[0.000000e+00, 1.250000e-01],\n",
              "       [1.000000e+00, 2.500000e-01],\n",
              "       [2.000000e+00, 5.000000e-01],\n",
              "       ...,\n",
              "       [6.920000e+02, 3.236375e+03],\n",
              "       [6.930000e+02, 2.054625e+03],\n",
              "       [6.940000e+02, 9.416250e+02]])"
            ]
          },
          "metadata": {},
          "execution_count": 4
        }
      ],
      "source": [
        "# Loading Data\n",
        "with open('daily_cases.csv', 'r') as file:\n",
        "    lines = file.read()\n",
        "    lines = lines.split('\\n')\n",
        "\n",
        "\n",
        "\n",
        "# Formating data <TODO> (The final array of this section should be a numpy array)\n",
        "agg = []\n",
        "for row in lines:\n",
        "    if len(row) == 0:\n",
        "        continue\n",
        "    day, cases = row.split(\",\")\n",
        "    dv = [int(day), float(cases)]\n",
        "    agg.append(dv)\n",
        "    # print(day)\n",
        "    # print(cases)\n",
        "\n",
        "covid = np.array(agg)\n",
        "\n",
        "np.shape(covid)\n",
        "covid"
      ]
    },
    {
      "cell_type": "code",
      "source": [
        "st_dev = []\n",
        "means = []\n",
        "weeks = []\n",
        "for i in range(0, np.shape(covid)[0], 7):\n",
        "        means.append(np.mean(covid[i:i+7,1]))\n",
        "        st_dev.append(np.std(covid[i:i+7,1]))\n",
        "        weeks.append(i)\n",
        "\n",
        "means = np.array(means)\n",
        "st_dev = np.array(st_dev)\n",
        "weeks = np.array(weeks)"
      ],
      "metadata": {
        "id": "dAsOsKmwfP7o"
      },
      "id": "dAsOsKmwfP7o",
      "execution_count": 13,
      "outputs": []
    },
    {
      "cell_type": "markdown",
      "id": "d8e196ac",
      "metadata": {
        "id": "d8e196ac"
      },
      "source": [
        "## Getting some useful information\n",
        "Get the weekly mean and standar deviation of the number of new covid cases. **Use NumPy Arrays!!!**"
      ]
    },
    {
      "cell_type": "code",
      "execution_count": 14,
      "id": "581ec93f",
      "metadata": {
        "id": "581ec93f",
        "colab": {
          "base_uri": "https://localhost:8080/"
        },
        "outputId": "79853ede-63a9-4735-e9f6-1c7df78047ef"
      },
      "outputs": [
        {
          "output_type": "stream",
          "name": "stdout",
          "text": [
            "[3.99297853e-01 2.32595712e+00 1.86903814e+01 4.06853124e+01\n",
            " 3.32297007e+01 2.40057391e+01 9.65653791e+00 1.54169310e+01\n",
            " 1.34062331e+02 1.33471437e+02 2.68629910e+02 4.23343259e+02\n",
            " 1.48947549e+02 1.72233395e+02 3.73347598e+02 1.09124800e+02\n",
            " 2.33721198e+02 2.49889580e+02 1.28593039e+02 1.24653474e+02\n",
            " 4.60626860e+01 4.40745469e+01 3.08923823e+01 1.96784094e+01\n",
            " 3.52777518e+01 3.75370905e+01 4.10523791e+01 2.41805892e+01\n",
            " 2.68029111e+01 5.77976160e+01 6.48247097e+01 4.20056787e+01\n",
            " 2.86148777e+01 4.51496025e+01 2.67554591e+01 4.02068551e+01\n",
            " 3.96262353e+01 2.36560979e+01 4.33795541e+01 3.47326340e+01\n",
            " 6.50256817e+01 1.22485326e+02 9.18354437e+01 1.83132340e+02\n",
            " 2.48648363e+02 2.16587349e+02 1.12129805e+02 4.94022174e+01\n",
            " 1.08180137e+02 7.72114650e+01 6.74463553e+01 1.70998038e+02\n",
            " 2.31885485e+02 3.06826399e+02 2.93293471e+02 2.83949685e+02\n",
            " 2.81971969e+02 1.73008044e+02 1.26469767e+02 9.92745529e+01\n",
            " 1.28926212e+02 1.46496204e+02 2.01927706e+02 3.36021281e+02\n",
            " 3.24562754e+02 2.45756425e+02 1.13805985e+02 2.48655060e+02\n",
            " 3.83031114e+02 2.49085250e+02 1.64937405e+02 1.98687352e+02\n",
            " 9.99311083e+01 5.35545211e+01 4.55860506e+01 3.01376096e+01\n",
            " 3.56594043e+01 2.32778251e+01 3.05312340e+01 9.53798796e+00\n",
            " 2.59460660e+01 6.04823775e+01 3.65013104e+01 5.69303862e+01\n",
            " 1.27921492e+02 1.51937229e+02 1.30180262e+02 7.36185832e+01\n",
            " 1.82490004e+02 2.84601628e+01 3.61712727e+01 9.70117287e+01\n",
            " 9.89650558e+01 4.05206076e+01 2.33179553e+01 1.08309647e+02\n",
            " 4.41877300e+02 1.19927032e+03 1.43521962e+03 5.56500000e+02]\n",
            "33.22970072396202\n"
          ]
        }
      ],
      "source": [
        "weekly_mean = means\n",
        "weekly_std = st_dev\n",
        "print(weekly_std)\n",
        "t=7\n",
        "print(np.std(covid[t*4:t*5,1]))"
      ]
    },
    {
      "cell_type": "markdown",
      "id": "3eb991d1",
      "metadata": {
        "id": "3eb991d1"
      },
      "source": [
        "## Plots: Plot the daily cases\n",
        "The plot must include the parameters:\n",
        "* x and y labels\n",
        "* title\n",
        "* Line must be red\n",
        "* add legend"
      ]
    },
    {
      "cell_type": "code",
      "execution_count": 15,
      "id": "913e5e86",
      "metadata": {
        "id": "913e5e86",
        "colab": {
          "base_uri": "https://localhost:8080/",
          "height": 564
        },
        "outputId": "961938d4-64ee-4230-aeb5-1ee5d52f85c6"
      },
      "outputs": [
        {
          "output_type": "display_data",
          "data": {
            "text/plain": [
              "<Figure size 800x600 with 1 Axes>"
            ],
            "image/png": "[encoded data removed]"
          },
          "metadata": {}
        }
      ],
      "source": [
        "import matplotlib.pyplot as plt\n",
        "import numpy as np\n",
        "\n",
        "# Initialize the figure\n",
        "fig=plt.figure(figsize=(8, 6))\n",
        "ax=plt.subplot(1,1,1)\n",
        "# ax2=plt.subplot(1,1,2)\n",
        "# ax3=plt.subplot(1,1,3)\n",
        "# ax4=plt.subplot(1,1,4)\n",
        "\n",
        "\n",
        "# Generate content\n",
        "# circle= np.linspace(0, 2*np.pi, 100)\n",
        "# line=ax.plot(weeks, means, color='red')\n",
        "\n",
        "error = plt.errorbar(weeks, means, yerr=st_dev, mfc='red', mec='black')\n",
        "# line = plt.plot(weeks, means, color='red')\n",
        "# line=ax.plot(weeks, st_dev, color='blue')\n",
        "# line=ax.plot(circle, np.sin(circle - np.pi/2) + 1, color='purple')\n",
        "# line=ax.plot(circle, np.cos(circle) + 2, color='green')\n",
        "# ax.set_xlim(-0.3, 6.5)\n",
        "# ax.set_ylim(-1.3, 3.3)\n",
        "\n",
        "\n",
        "# Add title and labels\n",
        "plt.title('Weekly Covid Cases')\n",
        "plt.xlabel('Week')\n",
        "plt.ylabel('Mean cases')\n",
        "# plt.legend('Statistic')\n",
        "\n",
        "# Display plot\n",
        "plt.show()"
      ]
    },
    {
      "cell_type": "markdown",
      "id": "7934589f",
      "metadata": {
        "id": "7934589f"
      },
      "source": [
        "## Plots: Plot the daily cases\n",
        "Including the paramters of the previous exercise, plot weekly and standar deviation in the same plot."
      ]
    },
    {
      "cell_type": "code",
      "execution_count": null,
      "id": "2c5cea18",
      "metadata": {
        "id": "2c5cea18"
      },
      "outputs": [],
      "source": [
        "\"<TODO>\""
      ]
    },
    {
      "cell_type": "markdown",
      "id": "d6b2e20e",
      "metadata": {
        "id": "d6b2e20e"
      },
      "source": [
        "## 4.2 Matlab\n",
        "Repeate the same analysis on Matlab. With the command below download the data:\n",
        "\n",
        "```R\n",
        "url = \"https://github.com/cgvalle/IIBM-BootCamp-2025/raw/main/assets/D3/daily_cases.mat\"\n",
        "websave('daily_cases.mat', url)\n",
        "```\n",
        "\n",
        "**HINT: You may want to search how to load .mat files!**\n",
        "\n",
        "When you finish, please copy and paste your code here."
      ]
    },
    {
      "cell_type": "markdown",
      "id": "a604b0db",
      "metadata": {
        "id": "a604b0db"
      },
      "source": []
    },
    {
      "cell_type": "markdown",
      "id": "85039b3e",
      "metadata": {
        "id": "85039b3e"
      },
      "source": [
        "# 4. Don't forget to send your work!"
      ]
    },
    {
      "cell_type": "markdown",
      "id": "32f3daf9",
      "metadata": {
        "id": "32f3daf9"
      },
      "source": [
        "Please don't forget to send your work to give you feedback about your progress to this [form](https://forms.gle/sME7JXuoB4ztMCFq6). To send it, you need to download the Notebook from Colab's webpage and upload it in the last question of the form.\n"
      ]
    },
    {
      "cell_type": "code",
      "execution_count": null,
      "id": "c35afac3",
      "metadata": {
        "id": "c35afac3"
      },
      "outputs": [],
      "source": []
    }
  ],
  "metadata": {
    "kernelspec": {
      "display_name": "Python 3 (ipykernel)",
      "language": "python",
      "name": "python3"
    },
    "language_info": {
      "codemirror_mode": {
        "name": "ipython",
        "version": 3
      },
      "file_extension": ".py",
      "mimetype": "text/x-python",
      "name": "python",
      "nbconvert_exporter": "python",
      "pygments_lexer": "ipython3",
      "version": "3.11.4"
    },
    "colab": {
      "provenance": []
    }
  },
  "nbformat": 4,
  "nbformat_minor": 5
}